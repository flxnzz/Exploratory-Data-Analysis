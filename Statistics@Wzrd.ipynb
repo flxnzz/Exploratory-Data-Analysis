{
  "nbformat": 4,
  "nbformat_minor": 0,
  "metadata": {
    "colab": {
      "provenance": []
    },
    "kernelspec": {
      "name": "python3",
      "display_name": "Python 3"
    },
    "language_info": {
      "name": "python"
    }
  },
  "cells": [
    {
      "cell_type": "markdown",
      "source": [
        "##IMPORT LIBRARY"
      ],
      "metadata": {
        "id": "nluAuLqz4ygu"
      }
    },
    {
      "cell_type": "code",
      "execution_count": null,
      "metadata": {
        "id": "WVP91FJZv-sz"
      },
      "outputs": [],
      "source": [
        "import pandas as pd\n",
        "import numpy as np\n",
        "import matplotlib.pyplot as plt\n",
        "import seaborn as sns\n",
        "from scipy.stats import ttest_ind"
      ]
    },
    {
      "cell_type": "code",
      "source": [
        "import warnings\n",
        "warnings.filterwarnings('ignore')"
      ],
      "metadata": {
        "id": "HqNlM_u7h1fE"
      },
      "execution_count": null,
      "outputs": []
    },
    {
      "cell_type": "markdown",
      "source": [
        "## Data Preprocessing"
      ],
      "metadata": {
        "id": "BIPu-PAF4oys"
      }
    },
    {
      "cell_type": "code",
      "source": [
        "data = pd.read_excel('http://117.53.47.247/Wzrd/traffic-bandung.xlsx')\n",
        "data.head()"
      ],
      "metadata": {
        "id": "1XjwXi6fwxdu",
        "colab": {
          "base_uri": "https://localhost:8080/",
          "height": 310
        },
        "outputId": "7ae8c883-1c17-43dd-a561-2e44b6b725f2"
      },
      "execution_count": null,
      "outputs": [
        {
          "output_type": "execute_result",
          "data": {
            "text/plain": [
              "         Nama Jalan  Waktu        Hari/tanggal  TOTAL MOTOR  TOTAL MOBIL  \\\n",
              "0  SP. UJUNG BERUNG   sore 2022-01-04 16:00:00         6776         1297   \n",
              "1  SP. UJUNG BERUNG  siang 2022-01-04 12:00:00         5303         1385   \n",
              "2  SP. UJUNG BERUNG   pagi 2022-01-04 07:00:00         6620         1306   \n",
              "3  SP. PASIR KALIKI   sore 2022-01-04 16:00:00         3393         2454   \n",
              "4  SP. PASIR KALIKI  siang 2022-01-04 12:00:00         2240         2508   \n",
              "\n",
              "   BUS/TRUK  JUMLAH  HEADWAY(s)  GAP(s)  85 P SPEED (Km/Jam)  \\\n",
              "0       135    8208        1.95    2.51                61.75   \n",
              "1       112    6800        2.19    5.85                56.75   \n",
              "2       172    8098        3.48    3.73                67.75   \n",
              "3        21    5868        1.43   13.54                47.50   \n",
              "4        83    4831        3.41    7.16                50.25   \n",
              "\n",
              "   AVG. SPEED (Km/Jam)  OCCUPANCY (%)  \n",
              "0                45.19          11.06  \n",
              "1                33.38          18.78  \n",
              "2                52.44           8.29  \n",
              "3                26.88          65.98  \n",
              "4                25.06          60.53  "
            ],
            "text/html": [
              "\n",
              "  <div id=\"df-4f6bad3c-d177-47f7-8d96-a73d09aa3734\" class=\"colab-df-container\">\n",
              "    <div>\n",
              "<style scoped>\n",
              "    .dataframe tbody tr th:only-of-type {\n",
              "        vertical-align: middle;\n",
              "    }\n",
              "\n",
              "    .dataframe tbody tr th {\n",
              "        vertical-align: top;\n",
              "    }\n",
              "\n",
              "    .dataframe thead th {\n",
              "        text-align: right;\n",
              "    }\n",
              "</style>\n",
              "<table border=\"1\" class=\"dataframe\">\n",
              "  <thead>\n",
              "    <tr style=\"text-align: right;\">\n",
              "      <th></th>\n",
              "      <th>Nama Jalan</th>\n",
              "      <th>Waktu</th>\n",
              "      <th>Hari/tanggal</th>\n",
              "      <th>TOTAL MOTOR</th>\n",
              "      <th>TOTAL MOBIL</th>\n",
              "      <th>BUS/TRUK</th>\n",
              "      <th>JUMLAH</th>\n",
              "      <th>HEADWAY(s)</th>\n",
              "      <th>GAP(s)</th>\n",
              "      <th>85 P SPEED (Km/Jam)</th>\n",
              "      <th>AVG. SPEED (Km/Jam)</th>\n",
              "      <th>OCCUPANCY (%)</th>\n",
              "    </tr>\n",
              "  </thead>\n",
              "  <tbody>\n",
              "    <tr>\n",
              "      <th>0</th>\n",
              "      <td>SP. UJUNG BERUNG</td>\n",
              "      <td>sore</td>\n",
              "      <td>2022-01-04 16:00:00</td>\n",
              "      <td>6776</td>\n",
              "      <td>1297</td>\n",
              "      <td>135</td>\n",
              "      <td>8208</td>\n",
              "      <td>1.95</td>\n",
              "      <td>2.51</td>\n",
              "      <td>61.75</td>\n",
              "      <td>45.19</td>\n",
              "      <td>11.06</td>\n",
              "    </tr>\n",
              "    <tr>\n",
              "      <th>1</th>\n",
              "      <td>SP. UJUNG BERUNG</td>\n",
              "      <td>siang</td>\n",
              "      <td>2022-01-04 12:00:00</td>\n",
              "      <td>5303</td>\n",
              "      <td>1385</td>\n",
              "      <td>112</td>\n",
              "      <td>6800</td>\n",
              "      <td>2.19</td>\n",
              "      <td>5.85</td>\n",
              "      <td>56.75</td>\n",
              "      <td>33.38</td>\n",
              "      <td>18.78</td>\n",
              "    </tr>\n",
              "    <tr>\n",
              "      <th>2</th>\n",
              "      <td>SP. UJUNG BERUNG</td>\n",
              "      <td>pagi</td>\n",
              "      <td>2022-01-04 07:00:00</td>\n",
              "      <td>6620</td>\n",
              "      <td>1306</td>\n",
              "      <td>172</td>\n",
              "      <td>8098</td>\n",
              "      <td>3.48</td>\n",
              "      <td>3.73</td>\n",
              "      <td>67.75</td>\n",
              "      <td>52.44</td>\n",
              "      <td>8.29</td>\n",
              "    </tr>\n",
              "    <tr>\n",
              "      <th>3</th>\n",
              "      <td>SP. PASIR KALIKI</td>\n",
              "      <td>sore</td>\n",
              "      <td>2022-01-04 16:00:00</td>\n",
              "      <td>3393</td>\n",
              "      <td>2454</td>\n",
              "      <td>21</td>\n",
              "      <td>5868</td>\n",
              "      <td>1.43</td>\n",
              "      <td>13.54</td>\n",
              "      <td>47.50</td>\n",
              "      <td>26.88</td>\n",
              "      <td>65.98</td>\n",
              "    </tr>\n",
              "    <tr>\n",
              "      <th>4</th>\n",
              "      <td>SP. PASIR KALIKI</td>\n",
              "      <td>siang</td>\n",
              "      <td>2022-01-04 12:00:00</td>\n",
              "      <td>2240</td>\n",
              "      <td>2508</td>\n",
              "      <td>83</td>\n",
              "      <td>4831</td>\n",
              "      <td>3.41</td>\n",
              "      <td>7.16</td>\n",
              "      <td>50.25</td>\n",
              "      <td>25.06</td>\n",
              "      <td>60.53</td>\n",
              "    </tr>\n",
              "  </tbody>\n",
              "</table>\n",
              "</div>\n",
              "    <div class=\"colab-df-buttons\">\n",
              "\n",
              "  <div class=\"colab-df-container\">\n",
              "    <button class=\"colab-df-convert\" onclick=\"convertToInteractive('df-4f6bad3c-d177-47f7-8d96-a73d09aa3734')\"\n",
              "            title=\"Convert this dataframe to an interactive table.\"\n",
              "            style=\"display:none;\">\n",
              "\n",
              "  <svg xmlns=\"http://www.w3.org/2000/svg\" height=\"24px\" viewBox=\"0 -960 960 960\">\n",
              "    <path d=\"M120-120v-720h720v720H120Zm60-500h600v-160H180v160Zm220 220h160v-160H400v160Zm0 220h160v-160H400v160ZM180-400h160v-160H180v160Zm440 0h160v-160H620v160ZM180-180h160v-160H180v160Zm440 0h160v-160H620v160Z\"/>\n",
              "  </svg>\n",
              "    </button>\n",
              "\n",
              "  <style>\n",
              "    .colab-df-container {\n",
              "      display:flex;\n",
              "      gap: 12px;\n",
              "    }\n",
              "\n",
              "    .colab-df-convert {\n",
              "      background-color: #E8F0FE;\n",
              "      border: none;\n",
              "      border-radius: 50%;\n",
              "      cursor: pointer;\n",
              "      display: none;\n",
              "      fill: #1967D2;\n",
              "      height: 32px;\n",
              "      padding: 0 0 0 0;\n",
              "      width: 32px;\n",
              "    }\n",
              "\n",
              "    .colab-df-convert:hover {\n",
              "      background-color: #E2EBFA;\n",
              "      box-shadow: 0px 1px 2px rgba(60, 64, 67, 0.3), 0px 1px 3px 1px rgba(60, 64, 67, 0.15);\n",
              "      fill: #174EA6;\n",
              "    }\n",
              "\n",
              "    .colab-df-buttons div {\n",
              "      margin-bottom: 4px;\n",
              "    }\n",
              "\n",
              "    [theme=dark] .colab-df-convert {\n",
              "      background-color: #3B4455;\n",
              "      fill: #D2E3FC;\n",
              "    }\n",
              "\n",
              "    [theme=dark] .colab-df-convert:hover {\n",
              "      background-color: #434B5C;\n",
              "      box-shadow: 0px 1px 3px 1px rgba(0, 0, 0, 0.15);\n",
              "      filter: drop-shadow(0px 1px 2px rgba(0, 0, 0, 0.3));\n",
              "      fill: #FFFFFF;\n",
              "    }\n",
              "  </style>\n",
              "\n",
              "    <script>\n",
              "      const buttonEl =\n",
              "        document.querySelector('#df-4f6bad3c-d177-47f7-8d96-a73d09aa3734 button.colab-df-convert');\n",
              "      buttonEl.style.display =\n",
              "        google.colab.kernel.accessAllowed ? 'block' : 'none';\n",
              "\n",
              "      async function convertToInteractive(key) {\n",
              "        const element = document.querySelector('#df-4f6bad3c-d177-47f7-8d96-a73d09aa3734');\n",
              "        const dataTable =\n",
              "          await google.colab.kernel.invokeFunction('convertToInteractive',\n",
              "                                                    [key], {});\n",
              "        if (!dataTable) return;\n",
              "\n",
              "        const docLinkHtml = 'Like what you see? Visit the ' +\n",
              "          '<a target=\"_blank\" href=https://colab.research.google.com/notebooks/data_table.ipynb>data table notebook</a>'\n",
              "          + ' to learn more about interactive tables.';\n",
              "        element.innerHTML = '';\n",
              "        dataTable['output_type'] = 'display_data';\n",
              "        await google.colab.output.renderOutput(dataTable, element);\n",
              "        const docLink = document.createElement('div');\n",
              "        docLink.innerHTML = docLinkHtml;\n",
              "        element.appendChild(docLink);\n",
              "      }\n",
              "    </script>\n",
              "  </div>\n",
              "\n",
              "\n",
              "<div id=\"df-517f1f87-a681-4729-9761-5f29a7d19597\">\n",
              "  <button class=\"colab-df-quickchart\" onclick=\"quickchart('df-517f1f87-a681-4729-9761-5f29a7d19597')\"\n",
              "            title=\"Suggest charts\"\n",
              "            style=\"display:none;\">\n",
              "\n",
              "<svg xmlns=\"http://www.w3.org/2000/svg\" height=\"24px\"viewBox=\"0 0 24 24\"\n",
              "     width=\"24px\">\n",
              "    <g>\n",
              "        <path d=\"M19 3H5c-1.1 0-2 .9-2 2v14c0 1.1.9 2 2 2h14c1.1 0 2-.9 2-2V5c0-1.1-.9-2-2-2zM9 17H7v-7h2v7zm4 0h-2V7h2v10zm4 0h-2v-4h2v4z\"/>\n",
              "    </g>\n",
              "</svg>\n",
              "  </button>\n",
              "\n",
              "<style>\n",
              "  .colab-df-quickchart {\n",
              "      --bg-color: #E8F0FE;\n",
              "      --fill-color: #1967D2;\n",
              "      --hover-bg-color: #E2EBFA;\n",
              "      --hover-fill-color: #174EA6;\n",
              "      --disabled-fill-color: #AAA;\n",
              "      --disabled-bg-color: #DDD;\n",
              "  }\n",
              "\n",
              "  [theme=dark] .colab-df-quickchart {\n",
              "      --bg-color: #3B4455;\n",
              "      --fill-color: #D2E3FC;\n",
              "      --hover-bg-color: #434B5C;\n",
              "      --hover-fill-color: #FFFFFF;\n",
              "      --disabled-bg-color: #3B4455;\n",
              "      --disabled-fill-color: #666;\n",
              "  }\n",
              "\n",
              "  .colab-df-quickchart {\n",
              "    background-color: var(--bg-color);\n",
              "    border: none;\n",
              "    border-radius: 50%;\n",
              "    cursor: pointer;\n",
              "    display: none;\n",
              "    fill: var(--fill-color);\n",
              "    height: 32px;\n",
              "    padding: 0;\n",
              "    width: 32px;\n",
              "  }\n",
              "\n",
              "  .colab-df-quickchart:hover {\n",
              "    background-color: var(--hover-bg-color);\n",
              "    box-shadow: 0 1px 2px rgba(60, 64, 67, 0.3), 0 1px 3px 1px rgba(60, 64, 67, 0.15);\n",
              "    fill: var(--button-hover-fill-color);\n",
              "  }\n",
              "\n",
              "  .colab-df-quickchart-complete:disabled,\n",
              "  .colab-df-quickchart-complete:disabled:hover {\n",
              "    background-color: var(--disabled-bg-color);\n",
              "    fill: var(--disabled-fill-color);\n",
              "    box-shadow: none;\n",
              "  }\n",
              "\n",
              "  .colab-df-spinner {\n",
              "    border: 2px solid var(--fill-color);\n",
              "    border-color: transparent;\n",
              "    border-bottom-color: var(--fill-color);\n",
              "    animation:\n",
              "      spin 1s steps(1) infinite;\n",
              "  }\n",
              "\n",
              "  @keyframes spin {\n",
              "    0% {\n",
              "      border-color: transparent;\n",
              "      border-bottom-color: var(--fill-color);\n",
              "      border-left-color: var(--fill-color);\n",
              "    }\n",
              "    20% {\n",
              "      border-color: transparent;\n",
              "      border-left-color: var(--fill-color);\n",
              "      border-top-color: var(--fill-color);\n",
              "    }\n",
              "    30% {\n",
              "      border-color: transparent;\n",
              "      border-left-color: var(--fill-color);\n",
              "      border-top-color: var(--fill-color);\n",
              "      border-right-color: var(--fill-color);\n",
              "    }\n",
              "    40% {\n",
              "      border-color: transparent;\n",
              "      border-right-color: var(--fill-color);\n",
              "      border-top-color: var(--fill-color);\n",
              "    }\n",
              "    60% {\n",
              "      border-color: transparent;\n",
              "      border-right-color: var(--fill-color);\n",
              "    }\n",
              "    80% {\n",
              "      border-color: transparent;\n",
              "      border-right-color: var(--fill-color);\n",
              "      border-bottom-color: var(--fill-color);\n",
              "    }\n",
              "    90% {\n",
              "      border-color: transparent;\n",
              "      border-bottom-color: var(--fill-color);\n",
              "    }\n",
              "  }\n",
              "</style>\n",
              "\n",
              "  <script>\n",
              "    async function quickchart(key) {\n",
              "      const quickchartButtonEl =\n",
              "        document.querySelector('#' + key + ' button');\n",
              "      quickchartButtonEl.disabled = true;  // To prevent multiple clicks.\n",
              "      quickchartButtonEl.classList.add('colab-df-spinner');\n",
              "      try {\n",
              "        const charts = await google.colab.kernel.invokeFunction(\n",
              "            'suggestCharts', [key], {});\n",
              "      } catch (error) {\n",
              "        console.error('Error during call to suggestCharts:', error);\n",
              "      }\n",
              "      quickchartButtonEl.classList.remove('colab-df-spinner');\n",
              "      quickchartButtonEl.classList.add('colab-df-quickchart-complete');\n",
              "    }\n",
              "    (() => {\n",
              "      let quickchartButtonEl =\n",
              "        document.querySelector('#df-517f1f87-a681-4729-9761-5f29a7d19597 button');\n",
              "      quickchartButtonEl.style.display =\n",
              "        google.colab.kernel.accessAllowed ? 'block' : 'none';\n",
              "    })();\n",
              "  </script>\n",
              "</div>\n",
              "    </div>\n",
              "  </div>\n"
            ]
          },
          "metadata": {},
          "execution_count": 30
        }
      ]
    },
    {
      "cell_type": "markdown",
      "source": [
        "\n",
        "Pada kolom `Nama Jalan`, terdapat beberapa nilai yang bermakna sama. Namun karena salah penulisan, program menghitungnya sebagai 2 hal yang berbeda. Misalnya `SP. GEDE BAGE` dan `SP. GEDEBAGE`.\n",
        "Berikut adalah kolom Nama Jalan sebelum dilakukan `data preprocessing`."
      ],
      "metadata": {
        "id": "eKp-Wg1lflRd"
      }
    },
    {
      "cell_type": "code",
      "source": [
        "data[\"Nama Jalan\"].value_counts()"
      ],
      "metadata": {
        "colab": {
          "base_uri": "https://localhost:8080/"
        },
        "id": "UmXkHO7sfKL1",
        "outputId": "48b3455b-6518-49f2-8ca3-fbc111b08c63"
      },
      "execution_count": null,
      "outputs": [
        {
          "output_type": "execute_result",
          "data": {
            "text/plain": [
              "SP. PASTEUR         21\n",
              "SP. PASIR KALIKI    21\n",
              "SP. ISTANA PLAZA    18\n",
              "SP. PASIR KOJA      18\n",
              "SP. UJUNG BERUNG    15\n",
              "SP. CIBEREUM        15\n",
              "SP. BUAH BATU       15\n",
              "SP. SAMSAT          15\n",
              "SP. M TOHA           9\n",
              "SP. GEDE BAGE        9\n",
              "SP. BATUNUNGGAL      7\n",
              "SP.GEDE BAGE         6\n",
              "SP. M.TOHA           6\n",
              "SP.UJUNG BERUNG      6\n",
              "SP.M TOHA            6\n",
              "SP.SAMSAT            6\n",
              "SP.BUAH BATU         6\n",
              "SP.CIBEREUM          6\n",
              "SP. GEDEBAGE         3\n",
              "SP.BATUNUNGGAL       3\n",
              "Name: Nama Jalan, dtype: int64"
            ]
          },
          "metadata": {},
          "execution_count": 31
        }
      ]
    },
    {
      "cell_type": "markdown",
      "source": [
        "Berdasarkan Output di atas, ada beberapa nama jalan yang bermakna sama namun dihitung berbeda. Oleh karena itu kami menggunakan `Regex` untuk mengubah pola string pada `Nama Jalan` agar data yang sebenarnya sama dapat dihitung dengan benar"
      ],
      "metadata": {
        "id": "wmoreJ_8iQE1"
      }
    },
    {
      "cell_type": "code",
      "source": [
        "data[\"Nama Jalan\"] = data[\"Nama Jalan\"].str.replace(r\"SP\\.\", \"SP. \", regex=True)\n",
        "data[\"Nama Jalan\"] = data[\"Nama Jalan\"].str.replace(r'\\s+', ' ', regex=True)\n",
        "data[\"Nama Jalan\"] = data[\"Nama Jalan\"].str.replace('SP. GEDE BAGE', 'SP. GEDEBAGE')\n",
        "data[\"Nama Jalan\"] = data[\"Nama Jalan\"].str.replace('SP. M TOHA', 'SP. M.TOHA')\n",
        "\n",
        "data[\"Nama Jalan\"].value_counts()"
      ],
      "metadata": {
        "colab": {
          "base_uri": "https://localhost:8080/"
        },
        "id": "KaQgWl0OhDqd",
        "outputId": "8bf755fd-e052-4db0-ee52-c86d92be4fd8"
      },
      "execution_count": null,
      "outputs": [
        {
          "output_type": "execute_result",
          "data": {
            "text/plain": [
              "SP. UJUNG BERUNG    21\n",
              "SP. PASIR KALIKI    21\n",
              "SP. M.TOHA          21\n",
              "SP. CIBEREUM        21\n",
              "SP. BUAH BATU       21\n",
              "SP. SAMSAT          21\n",
              "SP. PASTEUR         21\n",
              "SP. ISTANA PLAZA    18\n",
              "SP. PASIR KOJA      18\n",
              "SP. GEDEBAGE        18\n",
              "SP. BATUNUNGGAL     10\n",
              "Name: Nama Jalan, dtype: int64"
            ]
          },
          "metadata": {},
          "execution_count": 32
        }
      ]
    },
    {
      "cell_type": "markdown",
      "source": [
        "# [1] Method 1: Descriptive Statistics"
      ],
      "metadata": {
        "id": "0Zv30CpdHu_u"
      }
    },
    {
      "cell_type": "markdown",
      "source": [
        "# Modus"
      ],
      "metadata": {
        "id": "GicJvhm0Vy3L"
      }
    },
    {
      "cell_type": "code",
      "source": [
        "data[\"Nama Jalan\"].value_counts()"
      ],
      "metadata": {
        "colab": {
          "base_uri": "https://localhost:8080/"
        },
        "id": "T9T_46LzV4ir",
        "outputId": "11548a1f-61cb-4a97-a100-67c75b06f8ea"
      },
      "execution_count": null,
      "outputs": [
        {
          "output_type": "execute_result",
          "data": {
            "text/plain": [
              "SP. UJUNG BERUNG    21\n",
              "SP. PASIR KALIKI    21\n",
              "SP. M.TOHA          21\n",
              "SP. CIBEREUM        21\n",
              "SP. BUAH BATU       21\n",
              "SP. SAMSAT          21\n",
              "SP. PASTEUR         21\n",
              "SP. ISTANA PLAZA    18\n",
              "SP. PASIR KOJA      18\n",
              "SP. GEDEBAGE        18\n",
              "SP. BATUNUNGGAL     10\n",
              "Name: Nama Jalan, dtype: int64"
            ]
          },
          "metadata": {},
          "execution_count": 33
        }
      ]
    },
    {
      "cell_type": "code",
      "source": [
        "data[\"Nama Jalan\"].mode()"
      ],
      "metadata": {
        "colab": {
          "base_uri": "https://localhost:8080/"
        },
        "id": "WFnfkmgAV8Dq",
        "outputId": "3279e9fe-6609-4147-f141-a426f0b5a0b7"
      },
      "execution_count": null,
      "outputs": [
        {
          "output_type": "execute_result",
          "data": {
            "text/plain": [
              "0       SP. BUAH BATU\n",
              "1        SP. CIBEREUM\n",
              "2          SP. M.TOHA\n",
              "3    SP. PASIR KALIKI\n",
              "4         SP. PASTEUR\n",
              "5          SP. SAMSAT\n",
              "6    SP. UJUNG BERUNG\n",
              "Name: Nama Jalan, dtype: object"
            ]
          },
          "metadata": {},
          "execution_count": 34
        }
      ]
    },
    {
      "cell_type": "markdown",
      "source": [
        "### Penjelasan"
      ],
      "metadata": {
        "id": "FcbyIvG3WQpn"
      }
    },
    {
      "cell_type": "markdown",
      "source": [
        "Terdapat 7 Nama Jalan yang paling sering muncul sehingga modus ini disebut multimodal (terdiri atas lebih dari 2 modus). Nama jalan tersebut muncul sebanyak 21 kali pada dataset yang diberikan"
      ],
      "metadata": {
        "id": "t1uC9kswWT2v"
      }
    },
    {
      "cell_type": "markdown",
      "source": [
        "## MEAN"
      ],
      "metadata": {
        "id": "I9gCpTBo42zb"
      }
    },
    {
      "cell_type": "code",
      "source": [
        "mean_value_total_motor = data['TOTAL MOTOR'].mean()\n",
        "print(\"Rata-rata dari TOTAL MOTOR:\", mean_value_total_motor)\n",
        "\n",
        "mean_value_total_mobil = data['TOTAL MOBIL'].mean()\n",
        "print(\"Rata-rata dari TOTAL MOBIL:\", mean_value_total_mobil)\n",
        "\n",
        "mean_value_total_bus_truk = data['BUS/TRUK'].mean()\n",
        "print(\"Rata-rata dari TOTAL BUS/TRUK:\", mean_value_total_bus_truk)\n",
        "\n",
        "mean_value_total = data['JUMLAH'].mean()\n",
        "print(\"Rata-rata TOTAL:\", mean_value_total)"
      ],
      "metadata": {
        "colab": {
          "base_uri": "https://localhost:8080/"
        },
        "id": "6AzfZGvkxJC8",
        "outputId": "83c42efc-65eb-457c-e4ab-abc7ba376211"
      },
      "execution_count": null,
      "outputs": [
        {
          "output_type": "stream",
          "name": "stdout",
          "text": [
            "Rata-rata dari TOTAL MOTOR: 4768.8388625592415\n",
            "Rata-rata dari TOTAL MOBIL: 2261.691943127962\n",
            "Rata-rata dari TOTAL BUS/TRUK: 274.8767772511848\n",
            "Rata-rata TOTAL: 7305.407582938388\n"
          ]
        }
      ]
    },
    {
      "cell_type": "markdown",
      "source": [
        "Pada descriptive statistic ini kami merata-ratakan nilai data dari total motor, total mobil, bus/truk dan juga jumlah dari seluruh kenndaraan. Dimana rata-rata dari penggunaan dari motor pada bulan april 2022 lebih besar dibandingkan dengan rata-rata penggunaan mobil dan bus/ truk. Dari rata-rata ini juga kita mengetahui rata-rata jumlah penggunaan kendaraan pada bulan april tahun 2022 di kota Bandung."
      ],
      "metadata": {
        "id": "iCISV6JA0UFu"
      }
    },
    {
      "cell_type": "markdown",
      "source": [
        "##MEDIAN"
      ],
      "metadata": {
        "id": "nqqgF6Xw478U"
      }
    },
    {
      "cell_type": "code",
      "source": [
        "median_value_total_motor = data['TOTAL MOTOR'].median()\n",
        "print(\"Median of 'TOTAL MOTOR':\", median_value_total_motor)\n",
        "\n",
        "median_value_total_mobil = data['TOTAL MOBIL'].median()\n",
        "print(\"Median of 'TOTAL MOBIL':\", median_value_total_mobil)\n",
        "\n",
        "median_value_total_bus_truk = data['BUS/TRUK'].median()\n",
        "print(\"Median of 'TOTAL BUS/TRUK':\", median_value_total_bus_truk)\n",
        "\n",
        "median_value_total = data['JUMLAH'].median()\n",
        "print(\"Median of 'TOTAL':\", median_value_total)"
      ],
      "metadata": {
        "colab": {
          "base_uri": "https://localhost:8080/"
        },
        "id": "q6EvCCa34_NN",
        "outputId": "e266fc11-9bea-40de-9eb2-ff30f4137307"
      },
      "execution_count": null,
      "outputs": [
        {
          "output_type": "stream",
          "name": "stdout",
          "text": [
            "Median of 'TOTAL MOTOR': 3926.0\n",
            "Median of 'TOTAL MOBIL': 2090.0\n",
            "Median of 'TOTAL BUS/TRUK': 208.0\n",
            "Median of 'TOTAL': 6323.0\n"
          ]
        }
      ]
    },
    {
      "cell_type": "markdown",
      "source": [
        "Pada descriptive statistic ini kami mencari median nilai data dari total motor, total mobil, bus/truk dan juga jumlah dari seluruh kenndaraan pada bulan april tahun 2022 di kota Bandung."
      ],
      "metadata": {
        "id": "DDWrLs1k2zny"
      }
    },
    {
      "cell_type": "markdown",
      "source": [
        "##Variansi"
      ],
      "metadata": {
        "id": "6VCcNGVH51JX"
      }
    },
    {
      "cell_type": "code",
      "source": [
        "variansi_value_total_motor = data['TOTAL MOTOR'].var()\n",
        "print(\"Variansi dari TOTAL MOTOR:\", variansi_value_total_motor)\n",
        "\n",
        "variansi_value_total_mobil = data['TOTAL MOBIL'].var()\n",
        "print(\"Variansi dari TOTAL MOBIL:\", variansi_value_total_mobil)\n",
        "\n",
        "variansi_value_total_bus_truk = data['BUS/TRUK'].var()\n",
        "print(\"Variansi dari TOTAL BUS/TRUK:\", variansi_value_total_bus_truk)\n",
        "\n",
        "variansi_value_total = data['JUMLAH'].var()\n",
        "print(\"Variansi dari TOTAL:\", variansi_value_total)"
      ],
      "metadata": {
        "colab": {
          "base_uri": "https://localhost:8080/"
        },
        "id": "PB-fBsxc56cb",
        "outputId": "d1aa8ab0-d082-4879-fb54-3bb0d2818183"
      },
      "execution_count": null,
      "outputs": [
        {
          "output_type": "stream",
          "name": "stdout",
          "text": [
            "Variansi dari TOTAL MOTOR: 9681785.459625367\n",
            "Variansi dari TOTAL MOBIL: 1434877.014172873\n",
            "Variansi dari TOTAL BUS/TRUK: 64723.775220040625\n",
            "Variansi dari TOTAL: 15243567.394989844\n"
          ]
        }
      ]
    },
    {
      "cell_type": "markdown",
      "source": [
        "Pada variansi kami mencari variansi dari total motor, total mobil, bus/truk dan juga variansi dari jumlah keseluruhan kendaraan pada bulan april 2022"
      ],
      "metadata": {
        "id": "R6VatnpM3RGh"
      }
    },
    {
      "cell_type": "markdown",
      "source": [
        "## Simpangan Baku"
      ],
      "metadata": {
        "id": "Bwp_UNvY6esC"
      }
    },
    {
      "cell_type": "code",
      "source": [
        "std_value_total_motor = data['TOTAL MOTOR'].std()\n",
        "print(\"Standar Deviasi dari TOTAL MOTOR:\", std_value_total_motor)\n",
        "\n",
        "StringDtype_value_total_mobil = data['TOTAL MOBIL'].std()\n",
        "print(\"Standar Deviasi dari TOTAL MOBIL:\", StringDtype_value_total_mobil)\n",
        "\n",
        "std_value_total_bus_truk = data['BUS/TRUK'].std()\n",
        "print(\"Standar Deviasi dari TOTAL BUS/TRUK:\", std_value_total_bus_truk)\n",
        "\n",
        "std_value_total = data['JUMLAH'].std()\n",
        "print(\"Standar Deviasi dari TOTAL:\", std_value_total)"
      ],
      "metadata": {
        "colab": {
          "base_uri": "https://localhost:8080/"
        },
        "id": "zDXQWdzf6k9q",
        "outputId": "8e779d2e-afb6-4aba-f0fd-dcffd6f1064c"
      },
      "execution_count": null,
      "outputs": [
        {
          "output_type": "stream",
          "name": "stdout",
          "text": [
            "Standar Deviasi dari TOTAL MOTOR: 3111.5567582201306\n",
            "Standar Deviasi dari TOTAL MOBIL: 1197.8635206787428\n",
            "Standar Deviasi dari TOTAL BUS/TRUK: 254.40867756434847\n",
            "Standar Deviasi dari TOTAL: 3904.301140407825\n"
          ]
        }
      ]
    },
    {
      "cell_type": "markdown",
      "source": [
        "Pada bagian simpangan baku kami mencari simpangan baku dari data total motor, total mobil, bus/truk dan jumlah dari seluruh kendaraan pada bulan april 2022."
      ],
      "metadata": {
        "id": "Pv6R69Yp4C_B"
      }
    },
    {
      "cell_type": "markdown",
      "source": [
        "##Quartil"
      ],
      "metadata": {
        "id": "s5mqaNRm6hEP"
      }
    },
    {
      "cell_type": "code",
      "source": [
        "quartil_value_total_motor = data['TOTAL MOTOR'].quantile([0.25, 0.5, 0.75])\n",
        "print(\"Quartil dari TOTAL MOTOR:\", quartil_value_total_motor)\n",
        "\n",
        "quartil_value_total_mobil = data['TOTAL MOBIL'].quantile([0.25, 0.5, 0.75])\n",
        "print(\"Quartil dari TOTAL MOBIL:\", quartil_value_total_mobil)\n",
        "\n",
        "quartil_value_total_bus_truk = data['BUS/TRUK'].quantile([0.25, 0.5, 0.75])\n",
        "print(\"Quartil dari TOTAL BUS/TRUK:\", quartil_value_total_bus_truk)\n",
        "\n",
        "quartil_value_total = data['JUMLAH'].quantile([0.25, 0.5, 0.75])\n",
        "print(\"Quartil dari TOTAL:\", quartil_value_total)"
      ],
      "metadata": {
        "colab": {
          "base_uri": "https://localhost:8080/"
        },
        "id": "VT-zz9sh6nDE",
        "outputId": "97d24e8f-1ec7-4b31-a687-920cfe8be96b"
      },
      "execution_count": null,
      "outputs": [
        {
          "output_type": "stream",
          "name": "stdout",
          "text": [
            "Quartil dari TOTAL MOTOR: 0.25    2455.5\n",
            "0.50    3926.0\n",
            "0.75    6497.5\n",
            "Name: TOTAL MOTOR, dtype: float64\n",
            "Quartil dari TOTAL MOBIL: 0.25    1465.5\n",
            "0.50    2090.0\n",
            "0.75    2708.0\n",
            "Name: TOTAL MOBIL, dtype: float64\n",
            "Quartil dari TOTAL BUS/TRUK: 0.25    127.5\n",
            "0.50    208.0\n",
            "0.75    336.0\n",
            "Name: BUS/TRUK, dtype: float64\n",
            "Quartil dari TOTAL: 0.25    4533.0\n",
            "0.50    6323.0\n",
            "0.75    9260.5\n",
            "Name: JUMLAH, dtype: float64\n"
          ]
        }
      ]
    },
    {
      "cell_type": "markdown",
      "source": [
        "Pada bagian quartil kami mencari titik yang membagi himpunan dari data total motor, total mobil, bus/truk dan jumlah dari seluruh kendaraan pada bulan april 2022."
      ],
      "metadata": {
        "id": "j8MonSsI4Ru4"
      }
    },
    {
      "cell_type": "markdown",
      "source": [
        "# [2] Method 2: Data Visualization"
      ],
      "metadata": {
        "id": "KKsggZuA7qJ2"
      }
    },
    {
      "cell_type": "code",
      "source": [
        "df_numeric = data.drop([\"Hari/tanggal\"], axis=1)"
      ],
      "metadata": {
        "id": "cwLt9j2tnaKe"
      },
      "execution_count": null,
      "outputs": []
    },
    {
      "cell_type": "markdown",
      "source": [
        "## a. Bar Chart"
      ],
      "metadata": {
        "id": "_FSr04Arobzz"
      }
    },
    {
      "cell_type": "markdown",
      "source": [
        "Karakteristik dataset yang diberikan cocok jika divisualisasikan dengan Bar Chart karena termasuk data kategorikal. Kategori yang kami tentukan yaitu Waktu dan Hari/tanggal, sehingga data akan dikelompokkan berdasarkan 2 kategori tersebut dengan Bar Chart"
      ],
      "metadata": {
        "id": "2jrUuwxGp2Ys"
      }
    },
    {
      "cell_type": "code",
      "source": [
        "# Boolean Indexing: Memilih Jumlah Kendaraan yg ada di Kec. Buahbatu pada waktu Pagi/Siang/Sore\n",
        "df_method2 = data.drop([\"HEADWAY(s)\", \"GAP(s)\", \"85 P SPEED (Km/Jam)\", \"AVG. SPEED (Km/Jam)\", \"OCCUPANCY (%)\"], axis=1)\n",
        "pagi = df_method2[(df_method2[\"Waktu\"] == \"pagi\") & (df_method2[\"Nama Jalan\"] == \"SP. BUAH BATU\")]\n",
        "siang = df_method2[(df_method2[\"Waktu\"] == \"siang\") & (df_method2[\"Nama Jalan\"] == \"SP. BUAH BATU\")]\n",
        "sore = df_method2[(df_method2[\"Waktu\"] == \"sore\") & (df_method2[\"Nama Jalan\"] == \"SP. BUAH BATU\")]\n"
      ],
      "metadata": {
        "id": "gdX0gagJohVg"
      },
      "execution_count": null,
      "outputs": []
    },
    {
      "cell_type": "code",
      "source": [
        "# Mengelompokkan Total Motor berdasarkan Hari/Tanggal\n",
        "motor_pagi = pagi.groupby([\"Hari/tanggal\"]).sum()[\"TOTAL MOTOR\"]\n",
        "motor_siang = siang.groupby([\"Hari/tanggal\"]).sum()[\"TOTAL MOTOR\"]\n",
        "motor_sore = sore.groupby([\"Hari/tanggal\"]).sum()[\"TOTAL MOTOR\"]\n",
        "\n",
        "# Mengubah format tanggal menjadi: DD Month YYYY\n",
        "motor_pagi.index = motor_pagi.index.strftime('%d %b %Y')\n",
        "motor_siang.index = motor_siang.index.strftime('%d %b %Y')\n",
        "motor_sore.index = motor_sore.index.strftime('%d %b %Y')\n"
      ],
      "metadata": {
        "id": "3UYQHG7Iont-"
      },
      "execution_count": null,
      "outputs": []
    },
    {
      "cell_type": "code",
      "source": [
        "fig,ax = plt.subplots(figsize=(12, 4))\n",
        "\n",
        "# Menyimpan keys (tanggal) dan values (waktu pagi/siang/sore) untuk diproses menjadi bar chart\n",
        "categories = motor_pagi.index\n",
        "pagi = [c for c in motor_pagi.values]\n",
        "siang = [c for c in motor_siang.values]\n",
        "sore = [c for c in motor_sore.values]\n",
        "\n",
        "# Adjust bar chart\n",
        "bar_width = 0.23\n",
        "index = np.arange(len(categories))\n",
        "\n",
        "plt.bar(index-bar_width, pagi, bar_width, label='Pagi')\n",
        "plt.bar(index, siang, bar_width, label='Siang')\n",
        "plt.bar(index + bar_width, sore, bar_width, label='Sore')\n",
        "\n",
        "# Keterangan Grafik\n",
        "plt.xlabel('Waktu')\n",
        "plt.ylabel('Jumlah Kendaraan Bermotor')\n",
        "plt.title('Kondisi Lalu Lintas Kendaraan Bermotor di Kec. Buahbatu\\npada Bulan Januari s.d. Juli 2022')\n",
        "plt.xticks(index, categories)\n",
        "plt.legend()\n",
        "plt.show()"
      ],
      "metadata": {
        "colab": {
          "base_uri": "https://localhost:8080/",
          "height": 431
        },
        "id": "mWGNcRApoqo_",
        "outputId": "949fef21-8965-401f-818e-3b263cb96977"
      },
      "execution_count": null,
      "outputs": [
        {
          "output_type": "display_data",
          "data": {
            "text/plain": [
              "<Figure size 1200x400 with 1 Axes>"
            ],
            "image/png": "[encoded data removed]"
          },
          "metadata": {}
        }
      ]
    },
    {
      "cell_type": "code",
      "source": [
        "sum(pagi), sum(siang), sum(sore)"
      ],
      "metadata": {
        "colab": {
          "base_uri": "https://localhost:8080/"
        },
        "id": "17rTJOUIMEUU",
        "outputId": "caf34976-c0b2-4c67-f243-ea161cce7beb"
      },
      "execution_count": null,
      "outputs": [
        {
          "output_type": "execute_result",
          "data": {
            "text/plain": [
              "(50390, 38565, 37029)"
            ]
          },
          "metadata": {},
          "execution_count": 45
        }
      ]
    },
    {
      "cell_type": "markdown",
      "source": [
        "### Penjelasan"
      ],
      "metadata": {
        "id": "6JvaCuw5LxKi"
      }
    },
    {
      "cell_type": "markdown",
      "source": [
        "\n",
        "\n",
        "*   Lalu lintas Kec. Buahbatu rata-rata mengalami kepadatan pemotor paling tinggi setiap pagi hari\n",
        "*   Pada rentang 4 Febuari sampai 4 Maret, Lalu lintas Kec. Buahbatu mengalami penurunan drastis kepadatan pemotor dibanding rentang bulan lainnya\n",
        "*   Pada rentang 4 Maret sampai 4 April, Lalu lintas Kec. Buahbatu mengalami kenaikan drastis kepadatan pemotor dibanding rentang bulan lainnya\n",
        "*   Lalu lintas Kec. Buahbatu paling padat dan ramai dilalui oleh motor pada tanggal 4 April 2022.\n",
        "\n"
      ],
      "metadata": {
        "id": "oSXB-RjTmm-x"
      }
    },
    {
      "cell_type": "markdown",
      "source": [
        "## b. Tabel 2 dimensi"
      ],
      "metadata": {
        "id": "OedghzYJNe93"
      }
    },
    {
      "cell_type": "markdown",
      "source": [
        "Tabel ini berisi informasi jumlah kendaraan yang akan dikelompokkan berdasarkan waktu (pagi/siang/sore) dan Nama Jalan di Kota Bandung"
      ],
      "metadata": {
        "id": "ayi7CBk-pPXC"
      }
    },
    {
      "cell_type": "code",
      "source": [
        "df_vehicle_only = df_numeric.drop([\"HEADWAY(s)\", \"GAP(s)\", \"85 P SPEED (Km/Jam)\", \"AVG. SPEED (Km/Jam)\", \"OCCUPANCY (%)\"], axis=1)\n",
        "ordered = df_vehicle_only.groupby([\"Nama Jalan\", \"Waktu\"]).sum()\n",
        "ordered"
      ],
      "metadata": {
        "id": "o0bzCob4NeuD",
        "colab": {
          "base_uri": "https://localhost:8080/",
          "height": 1000
        },
        "outputId": "072b24fa-80cf-48cd-c150-9ed3155eca12"
      },
      "execution_count": null,
      "outputs": [
        {
          "output_type": "execute_result",
          "data": {
            "text/plain": [
              "                        TOTAL MOTOR  TOTAL MOBIL  BUS/TRUK  JUMLAH\n",
              "Nama Jalan       Waktu                                            \n",
              "SP. BATUNUNGGAL  pagi          2025          948       346    3319\n",
              "                 siang         1337         1137       587    3061\n",
              "                 sore          3182         1352       451    4985\n",
              "SP. BUAH BATU    pagi         50390        13998      2088   66476\n",
              "                 siang        38565        19545      2705   60815\n",
              "                 sore         37029        17898      2511   57438\n",
              "SP. CIBEREUM     pagi         62895        15983      1936   80814\n",
              "                 siang        50323        19616      2999   72938\n",
              "                 sore         72547        19006      1981   93534\n",
              "SP. GEDEBAGE     pagi         19385         8091      1637   29113\n",
              "                 siang        11779         9432      1801   23012\n",
              "                 sore         16700         8389      1723   26812\n",
              "SP. ISTANA PLAZA pagi         26696         8547       429   35672\n",
              "                 siang        23726        11520       758   36004\n",
              "                 sore         22544         8620       792   31956\n",
              "SP. M.TOHA       pagi         53299        12006      2354   67659\n",
              "                 siang        35648        14011      2040   51699\n",
              "                 sore         43429        13267      1513   58209\n",
              "SP. PASIR KALIKI pagi         21581        14119       940   36640\n",
              "                 siang        15743        17221       625   33589\n",
              "                 sore         20926        17631       391   38948\n",
              "SP. PASIR KOJA   pagi          9639        10666      3397   23702\n",
              "                 siang         6839        14197      3952   24988\n",
              "                 sore          8220        12848      3153   24221\n",
              "SP. PASTEUR      pagi         17345        12777      1166   31288\n",
              "                 siang        15273        20371      1444   37088\n",
              "                 sore         21092        23722      1864   46678\n",
              "SP. SAMSAT       pagi         73983        29825      3245  107053\n",
              "                 siang        47222        37044      3735   88001\n",
              "                 sore         63923        37733      2988  104644\n",
              "SP. UJUNG BERUNG pagi         39626         8017       871   48514\n",
              "                 siang        34284         9743       831   44858\n",
              "                 sore         39030         7937       746   47713"
            ],
            "text/html": [
              "\n",
              "  <div id=\"df-c17fc55d-84b0-4aa2-89ce-2a227d548fdd\" class=\"colab-df-container\">\n",
              "    <div>\n",
              "<style scoped>\n",
              "    .dataframe tbody tr th:only-of-type {\n",
              "        vertical-align: middle;\n",
              "    }\n",
              "\n",
              "    .dataframe tbody tr th {\n",
              "        vertical-align: top;\n",
              "    }\n",
              "\n",
              "    .dataframe thead th {\n",
              "        text-align: right;\n",
              "    }\n",
              "</style>\n",
              "<table border=\"1\" class=\"dataframe\">\n",
              "  <thead>\n",
              "    <tr style=\"text-align: right;\">\n",
              "      <th></th>\n",
              "      <th></th>\n",
              "      <th>TOTAL MOTOR</th>\n",
              "      <th>TOTAL MOBIL</th>\n",
              "      <th>BUS/TRUK</th>\n",
              "      <th>JUMLAH</th>\n",
              "    </tr>\n",
              "    <tr>\n",
              "      <th>Nama Jalan</th>\n",
              "      <th>Waktu</th>\n",
              "      <th></th>\n",
              "      <th></th>\n",
              "      <th></th>\n",
              "      <th></th>\n",
              "    </tr>\n",
              "  </thead>\n",
              "  <tbody>\n",
              "    <tr>\n",
              "      <th rowspan=\"3\" valign=\"top\">SP. BATUNUNGGAL</th>\n",
              "      <th>pagi</th>\n",
              "      <td>2025</td>\n",
              "      <td>948</td>\n",
              "      <td>346</td>\n",
              "      <td>3319</td>\n",
              "    </tr>\n",
              "    <tr>\n",
              "      <th>siang</th>\n",
              "      <td>1337</td>\n",
              "      <td>1137</td>\n",
              "      <td>587</td>\n",
              "      <td>3061</td>\n",
              "    </tr>\n",
              "    <tr>\n",
              "      <th>sore</th>\n",
              "      <td>3182</td>\n",
              "      <td>1352</td>\n",
              "      <td>451</td>\n",
              "      <td>4985</td>\n",
              "    </tr>\n",
              "    <tr>\n",
              "      <th rowspan=\"3\" valign=\"top\">SP. BUAH BATU</th>\n",
              "      <th>pagi</th>\n",
              "      <td>50390</td>\n",
              "      <td>13998</td>\n",
              "      <td>2088</td>\n",
              "      <td>66476</td>\n",
              "    </tr>\n",
              "    <tr>\n",
              "      <th>siang</th>\n",
              "      <td>38565</td>\n",
              "      <td>19545</td>\n",
              "      <td>2705</td>\n",
              "      <td>60815</td>\n",
              "    </tr>\n",
              "    <tr>\n",
              "      <th>sore</th>\n",
              "      <td>37029</td>\n",
              "      <td>17898</td>\n",
              "      <td>2511</td>\n",
              "      <td>57438</td>\n",
              "    </tr>\n",
              "    <tr>\n",
              "      <th rowspan=\"3\" valign=\"top\">SP. CIBEREUM</th>\n",
              "      <th>pagi</th>\n",
              "      <td>62895</td>\n",
              "      <td>15983</td>\n",
              "      <td>1936</td>\n",
              "      <td>80814</td>\n",
              "    </tr>\n",
              "    <tr>\n",
              "      <th>siang</th>\n",
              "      <td>50323</td>\n",
              "      <td>19616</td>\n",
              "      <td>2999</td>\n",
              "      <td>72938</td>\n",
              "    </tr>\n",
              "    <tr>\n",
              "      <th>sore</th>\n",
              "      <td>72547</td>\n",
              "      <td>19006</td>\n",
              "      <td>1981</td>\n",
              "      <td>93534</td>\n",
              "    </tr>\n",
              "    <tr>\n",
              "      <th rowspan=\"3\" valign=\"top\">SP. GEDEBAGE</th>\n",
              "      <th>pagi</th>\n",
              "      <td>19385</td>\n",
              "      <td>8091</td>\n",
              "      <td>1637</td>\n",
              "      <td>29113</td>\n",
              "    </tr>\n",
              "    <tr>\n",
              "      <th>siang</th>\n",
              "      <td>11779</td>\n",
              "      <td>9432</td>\n",
              "      <td>1801</td>\n",
              "      <td>23012</td>\n",
              "    </tr>\n",
              "    <tr>\n",
              "      <th>sore</th>\n",
              "      <td>16700</td>\n",
              "      <td>8389</td>\n",
              "      <td>1723</td>\n",
              "      <td>26812</td>\n",
              "    </tr>\n",
              "    <tr>\n",
              "      <th rowspan=\"3\" valign=\"top\">SP. ISTANA PLAZA</th>\n",
              "      <th>pagi</th>\n",
              "      <td>26696</td>\n",
              "      <td>8547</td>\n",
              "      <td>429</td>\n",
              "      <td>35672</td>\n",
              "    </tr>\n",
              "    <tr>\n",
              "      <th>siang</th>\n",
              "      <td>23726</td>\n",
              "      <td>11520</td>\n",
              "      <td>758</td>\n",
              "      <td>36004</td>\n",
              "    </tr>\n",
              "    <tr>\n",
              "      <th>sore</th>\n",
              "      <td>22544</td>\n",
              "      <td>8620</td>\n",
              "      <td>792</td>\n",
              "      <td>31956</td>\n",
              "    </tr>\n",
              "    <tr>\n",
              "      <th rowspan=\"3\" valign=\"top\">SP. M.TOHA</th>\n",
              "      <th>pagi</th>\n",
              "      <td>53299</td>\n",
              "      <td>12006</td>\n",
              "      <td>2354</td>\n",
              "      <td>67659</td>\n",
              "    </tr>\n",
              "    <tr>\n",
              "      <th>siang</th>\n",
              "      <td>35648</td>\n",
              "      <td>14011</td>\n",
              "      <td>2040</td>\n",
              "      <td>51699</td>\n",
              "    </tr>\n",
              "    <tr>\n",
              "      <th>sore</th>\n",
              "      <td>43429</td>\n",
              "      <td>13267</td>\n",
              "      <td>1513</td>\n",
              "      <td>58209</td>\n",
              "    </tr>\n",
              "    <tr>\n",
              "      <th rowspan=\"3\" valign=\"top\">SP. PASIR KALIKI</th>\n",
              "      <th>pagi</th>\n",
              "      <td>21581</td>\n",
              "      <td>14119</td>\n",
              "      <td>940</td>\n",
              "      <td>36640</td>\n",
              "    </tr>\n",
              "    <tr>\n",
              "      <th>siang</th>\n",
              "      <td>15743</td>\n",
              "      <td>17221</td>\n",
              "      <td>625</td>\n",
              "      <td>33589</td>\n",
              "    </tr>\n",
              "    <tr>\n",
              "      <th>sore</th>\n",
              "      <td>20926</td>\n",
              "      <td>17631</td>\n",
              "      <td>391</td>\n",
              "      <td>38948</td>\n",
              "    </tr>\n",
              "    <tr>\n",
              "      <th rowspan=\"3\" valign=\"top\">SP. PASIR KOJA</th>\n",
              "      <th>pagi</th>\n",
              "      <td>9639</td>\n",
              "      <td>10666</td>\n",
              "      <td>3397</td>\n",
              "      <td>23702</td>\n",
              "    </tr>\n",
              "    <tr>\n",
              "      <th>siang</th>\n",
              "      <td>6839</td>\n",
              "      <td>14197</td>\n",
              "      <td>3952</td>\n",
              "      <td>24988</td>\n",
              "    </tr>\n",
              "    <tr>\n",
              "      <th>sore</th>\n",
              "      <td>8220</td>\n",
              "      <td>12848</td>\n",
              "      <td>3153</td>\n",
              "      <td>24221</td>\n",
              "    </tr>\n",
              "    <tr>\n",
              "      <th rowspan=\"3\" valign=\"top\">SP. PASTEUR</th>\n",
              "      <th>pagi</th>\n",
              "      <td>17345</td>\n",
              "      <td>12777</td>\n",
              "      <td>1166</td>\n",
              "      <td>31288</td>\n",
              "    </tr>\n",
              "    <tr>\n",
              "      <th>siang</th>\n",
              "      <td>15273</td>\n",
              "      <td>20371</td>\n",
              "      <td>1444</td>\n",
              "      <td>37088</td>\n",
              "    </tr>\n",
              "    <tr>\n",
              "      <th>sore</th>\n",
              "      <td>21092</td>\n",
              "      <td>23722</td>\n",
              "      <td>1864</td>\n",
              "      <td>46678</td>\n",
              "    </tr>\n",
              "    <tr>\n",
              "      <th rowspan=\"3\" valign=\"top\">SP. SAMSAT</th>\n",
              "      <th>pagi</th>\n",
              "      <td>73983</td>\n",
              "      <td>29825</td>\n",
              "      <td>3245</td>\n",
              "      <td>107053</td>\n",
              "    </tr>\n",
              "    <tr>\n",
              "      <th>siang</th>\n",
              "      <td>47222</td>\n",
              "      <td>37044</td>\n",
              "      <td>3735</td>\n",
              "      <td>88001</td>\n",
              "    </tr>\n",
              "    <tr>\n",
              "      <th>sore</th>\n",
              "      <td>63923</td>\n",
              "      <td>37733</td>\n",
              "      <td>2988</td>\n",
              "      <td>104644</td>\n",
              "    </tr>\n",
              "    <tr>\n",
              "      <th rowspan=\"3\" valign=\"top\">SP. UJUNG BERUNG</th>\n",
              "      <th>pagi</th>\n",
              "      <td>39626</td>\n",
              "      <td>8017</td>\n",
              "      <td>871</td>\n",
              "      <td>48514</td>\n",
              "    </tr>\n",
              "    <tr>\n",
              "      <th>siang</th>\n",
              "      <td>34284</td>\n",
              "      <td>9743</td>\n",
              "      <td>831</td>\n",
              "      <td>44858</td>\n",
              "    </tr>\n",
              "    <tr>\n",
              "      <th>sore</th>\n",
              "      <td>39030</td>\n",
              "      <td>7937</td>\n",
              "      <td>746</td>\n",
              "      <td>47713</td>\n",
              "    </tr>\n",
              "  </tbody>\n",
              "</table>\n",
              "</div>\n",
              "    <div class=\"colab-df-buttons\">\n",
              "\n",
              "  <div class=\"colab-df-container\">\n",
              "    <button class=\"colab-df-convert\" onclick=\"convertToInteractive('df-c17fc55d-84b0-4aa2-89ce-2a227d548fdd')\"\n",
              "            title=\"Convert this dataframe to an interactive table.\"\n",
              "            style=\"display:none;\">\n",
              "\n",
              "  <svg xmlns=\"http://www.w3.org/2000/svg\" height=\"24px\" viewBox=\"0 -960 960 960\">\n",
              "    <path d=\"M120-120v-720h720v720H120Zm60-500h600v-160H180v160Zm220 220h160v-160H400v160Zm0 220h160v-160H400v160ZM180-400h160v-160H180v160Zm440 0h160v-160H620v160ZM180-180h160v-160H180v160Zm440 0h160v-160H620v160Z\"/>\n",
              "  </svg>\n",
              "    </button>\n",
              "\n",
              "  <style>\n",
              "    .colab-df-container {\n",
              "      display:flex;\n",
              "      gap: 12px;\n",
              "    }\n",
              "\n",
              "    .colab-df-convert {\n",
              "      background-color: #E8F0FE;\n",
              "      border: none;\n",
              "      border-radius: 50%;\n",
              "      cursor: pointer;\n",
              "      display: none;\n",
              "      fill: #1967D2;\n",
              "      height: 32px;\n",
              "      padding: 0 0 0 0;\n",
              "      width: 32px;\n",
              "    }\n",
              "\n",
              "    .colab-df-convert:hover {\n",
              "      background-color: #E2EBFA;\n",
              "      box-shadow: 0px 1px 2px rgba(60, 64, 67, 0.3), 0px 1px 3px 1px rgba(60, 64, 67, 0.15);\n",
              "      fill: #174EA6;\n",
              "    }\n",
              "\n",
              "    .colab-df-buttons div {\n",
              "      margin-bottom: 4px;\n",
              "    }\n",
              "\n",
              "    [theme=dark] .colab-df-convert {\n",
              "      background-color: #3B4455;\n",
              "      fill: #D2E3FC;\n",
              "    }\n",
              "\n",
              "    [theme=dark] .colab-df-convert:hover {\n",
              "      background-color: #434B5C;\n",
              "      box-shadow: 0px 1px 3px 1px rgba(0, 0, 0, 0.15);\n",
              "      filter: drop-shadow(0px 1px 2px rgba(0, 0, 0, 0.3));\n",
              "      fill: #FFFFFF;\n",
              "    }\n",
              "  </style>\n",
              "\n",
              "    <script>\n",
              "      const buttonEl =\n",
              "        document.querySelector('#df-c17fc55d-84b0-4aa2-89ce-2a227d548fdd button.colab-df-convert');\n",
              "      buttonEl.style.display =\n",
              "        google.colab.kernel.accessAllowed ? 'block' : 'none';\n",
              "\n",
              "      async function convertToInteractive(key) {\n",
              "        const element = document.querySelector('#df-c17fc55d-84b0-4aa2-89ce-2a227d548fdd');\n",
              "        const dataTable =\n",
              "          await google.colab.kernel.invokeFunction('convertToInteractive',\n",
              "                                                    [key], {});\n",
              "        if (!dataTable) return;\n",
              "\n",
              "        const docLinkHtml = 'Like what you see? Visit the ' +\n",
              "          '<a target=\"_blank\" href=https://colab.research.google.com/notebooks/data_table.ipynb>data table notebook</a>'\n",
              "          + ' to learn more about interactive tables.';\n",
              "        element.innerHTML = '';\n",
              "        dataTable['output_type'] = 'display_data';\n",
              "        await google.colab.output.renderOutput(dataTable, element);\n",
              "        const docLink = document.createElement('div');\n",
              "        docLink.innerHTML = docLinkHtml;\n",
              "        element.appendChild(docLink);\n",
              "      }\n",
              "    </script>\n",
              "  </div>\n",
              "\n",
              "\n",
              "<div id=\"df-c0f4c1da-5607-4546-bb77-61c1e5c674ee\">\n",
              "  <button class=\"colab-df-quickchart\" onclick=\"quickchart('df-c0f4c1da-5607-4546-bb77-61c1e5c674ee')\"\n",
              "            title=\"Suggest charts\"\n",
              "            style=\"display:none;\">\n",
              "\n",
              "<svg xmlns=\"http://www.w3.org/2000/svg\" height=\"24px\"viewBox=\"0 0 24 24\"\n",
              "     width=\"24px\">\n",
              "    <g>\n",
              "        <path d=\"M19 3H5c-1.1 0-2 .9-2 2v14c0 1.1.9 2 2 2h14c1.1 0 2-.9 2-2V5c0-1.1-.9-2-2-2zM9 17H7v-7h2v7zm4 0h-2V7h2v10zm4 0h-2v-4h2v4z\"/>\n",
              "    </g>\n",
              "</svg>\n",
              "  </button>\n",
              "\n",
              "<style>\n",
              "  .colab-df-quickchart {\n",
              "      --bg-color: #E8F0FE;\n",
              "      --fill-color: #1967D2;\n",
              "      --hover-bg-color: #E2EBFA;\n",
              "      --hover-fill-color: #174EA6;\n",
              "      --disabled-fill-color: #AAA;\n",
              "      --disabled-bg-color: #DDD;\n",
              "  }\n",
              "\n",
              "  [theme=dark] .colab-df-quickchart {\n",
              "      --bg-color: #3B4455;\n",
              "      --fill-color: #D2E3FC;\n",
              "      --hover-bg-color: #434B5C;\n",
              "      --hover-fill-color: #FFFFFF;\n",
              "      --disabled-bg-color: #3B4455;\n",
              "      --disabled-fill-color: #666;\n",
              "  }\n",
              "\n",
              "  .colab-df-quickchart {\n",
              "    background-color: var(--bg-color);\n",
              "    border: none;\n",
              "    border-radius: 50%;\n",
              "    cursor: pointer;\n",
              "    display: none;\n",
              "    fill: var(--fill-color);\n",
              "    height: 32px;\n",
              "    padding: 0;\n",
              "    width: 32px;\n",
              "  }\n",
              "\n",
              "  .colab-df-quickchart:hover {\n",
              "    background-color: var(--hover-bg-color);\n",
              "    box-shadow: 0 1px 2px rgba(60, 64, 67, 0.3), 0 1px 3px 1px rgba(60, 64, 67, 0.15);\n",
              "    fill: var(--button-hover-fill-color);\n",
              "  }\n",
              "\n",
              "  .colab-df-quickchart-complete:disabled,\n",
              "  .colab-df-quickchart-complete:disabled:hover {\n",
              "    background-color: var(--disabled-bg-color);\n",
              "    fill: var(--disabled-fill-color);\n",
              "    box-shadow: none;\n",
              "  }\n",
              "\n",
              "  .colab-df-spinner {\n",
              "    border: 2px solid var(--fill-color);\n",
              "    border-color: transparent;\n",
              "    border-bottom-color: var(--fill-color);\n",
              "    animation:\n",
              "      spin 1s steps(1) infinite;\n",
              "  }\n",
              "\n",
              "  @keyframes spin {\n",
              "    0% {\n",
              "      border-color: transparent;\n",
              "      border-bottom-color: var(--fill-color);\n",
              "      border-left-color: var(--fill-color);\n",
              "    }\n",
              "    20% {\n",
              "      border-color: transparent;\n",
              "      border-left-color: var(--fill-color);\n",
              "      border-top-color: var(--fill-color);\n",
              "    }\n",
              "    30% {\n",
              "      border-color: transparent;\n",
              "      border-left-color: var(--fill-color);\n",
              "      border-top-color: var(--fill-color);\n",
              "      border-right-color: var(--fill-color);\n",
              "    }\n",
              "    40% {\n",
              "      border-color: transparent;\n",
              "      border-right-color: var(--fill-color);\n",
              "      border-top-color: var(--fill-color);\n",
              "    }\n",
              "    60% {\n",
              "      border-color: transparent;\n",
              "      border-right-color: var(--fill-color);\n",
              "    }\n",
              "    80% {\n",
              "      border-color: transparent;\n",
              "      border-right-color: var(--fill-color);\n",
              "      border-bottom-color: var(--fill-color);\n",
              "    }\n",
              "    90% {\n",
              "      border-color: transparent;\n",
              "      border-bottom-color: var(--fill-color);\n",
              "    }\n",
              "  }\n",
              "</style>\n",
              "\n",
              "  <script>\n",
              "    async function quickchart(key) {\n",
              "      const quickchartButtonEl =\n",
              "        document.querySelector('#' + key + ' button');\n",
              "      quickchartButtonEl.disabled = true;  // To prevent multiple clicks.\n",
              "      quickchartButtonEl.classList.add('colab-df-spinner');\n",
              "      try {\n",
              "        const charts = await google.colab.kernel.invokeFunction(\n",
              "            'suggestCharts', [key], {});\n",
              "      } catch (error) {\n",
              "        console.error('Error during call to suggestCharts:', error);\n",
              "      }\n",
              "      quickchartButtonEl.classList.remove('colab-df-spinner');\n",
              "      quickchartButtonEl.classList.add('colab-df-quickchart-complete');\n",
              "    }\n",
              "    (() => {\n",
              "      let quickchartButtonEl =\n",
              "        document.querySelector('#df-c0f4c1da-5607-4546-bb77-61c1e5c674ee button');\n",
              "      quickchartButtonEl.style.display =\n",
              "        google.colab.kernel.accessAllowed ? 'block' : 'none';\n",
              "    })();\n",
              "  </script>\n",
              "</div>\n",
              "    </div>\n",
              "  </div>\n"
            ]
          },
          "metadata": {},
          "execution_count": 41
        }
      ]
    },
    {
      "cell_type": "markdown",
      "source": [
        "### Penjelasan"
      ],
      "metadata": {
        "id": "Ayud-D1-L0Qk"
      }
    },
    {
      "cell_type": "markdown",
      "source": [
        "*   Lalu lintas SP. SAMSAT memiliki tingkat kepadatan paling tinggi\n",
        "*   Lalu lintas SP. BATUNUNGGAL tingkat kepadatan paling rendah\n",
        "*   Lalu lintas SP. SAMSAT pada pagi hari memiliki jumlah kendaraan paling banyak yakni 107053\n",
        "*   Lalu lintas SP. SAMSAT pada pagi hari memiliki jumlah kendaraan paling dikit yakni 3061\n",
        "*   Kendaraan bermotor paling banyak melalui SP. SAMSAT di pagi hari\n",
        "*   Kendaraan mobil paling banyak melalui SP. SAMSAT di sore hari\n",
        "*   Kendaraan bus/truk paling banyak melalui SP. PASIR KOJA di siang hari"
      ],
      "metadata": {
        "id": "38DJ9hh3uUCq"
      }
    },
    {
      "cell_type": "markdown",
      "source": [
        "## c. Histogram"
      ],
      "metadata": {
        "id": "UyQjJYzREEut"
      }
    },
    {
      "cell_type": "code",
      "source": [
        "data.describe()[\"AVG. SPEED (Km/Jam)\"]"
      ],
      "metadata": {
        "colab": {
          "base_uri": "https://localhost:8080/"
        },
        "id": "Rf0-0CyjEOi6",
        "outputId": "8063be8f-442c-4381-a336-a93d9bf0065b"
      },
      "execution_count": null,
      "outputs": [
        {
          "output_type": "execute_result",
          "data": {
            "text/plain": [
              "count    211.000000\n",
              "mean      25.372464\n",
              "std       10.291374\n",
              "min       11.310000\n",
              "25%       19.375000\n",
              "50%       23.120000\n",
              "75%       28.250000\n",
              "max       78.190000\n",
              "Name: AVG. SPEED (Km/Jam), dtype: float64"
            ]
          },
          "metadata": {},
          "execution_count": 46
        }
      ]
    },
    {
      "cell_type": "code",
      "source": [
        "hist_data = data[\"AVG. SPEED (Km/Jam)\"]\n",
        "\n",
        "# Histogram Jumlah Kendaraan\n",
        "plt.figure(figsize=(8, 4))\n",
        "plt.hist(hist_data, edgecolor='black')\n",
        "\n",
        "# Keterangan\n",
        "plt.title('Histogram Kecepatan Rata-rata Kendaraan di Kota Bandung')\n",
        "plt.xlabel('Kecepatan Rata-rata (Km/Jam)')\n",
        "plt.ylabel('Frequency')\n",
        "\n",
        "plt.show()\n"
      ],
      "metadata": {
        "colab": {
          "base_uri": "https://localhost:8080/",
          "height": 410
        },
        "id": "kjqsHsEnVS3h",
        "outputId": "1c18a1da-9af9-46f8-945e-35c4181ab34c"
      },
      "execution_count": null,
      "outputs": [
        {
          "output_type": "display_data",
          "data": {
            "text/plain": [
              "<Figure size 800x400 with 1 Axes>"
            ],
            "image/png": "[encoded data removed]"
          },
          "metadata": {}
        }
      ]
    },
    {
      "cell_type": "markdown",
      "source": [
        "### Penjelasan"
      ],
      "metadata": {
        "id": "7Ew_dI-sLtp_"
      }
    },
    {
      "cell_type": "markdown",
      "source": [
        "\n",
        "*   Histogram di atas menunjukkan kemencengan data ke arah kiri (condong negatif)\n",
        "*   Frekuensi tertinggi kecepatan rata-rata kendaraan terdapat di sekitar rentang 15 hingga 30 Km/Jam\n",
        "- Frekuensi menurun untuk kecepatan rata-rata di atas 40 Km/jam\n",
        "- Artinya, sebagian besar kendaraan di Kota Bandung melaju dengan kecepatan rata-rata 15 hingga 30 Km/Jam, sedangkan hanya sedikit kendaraan yang melaju dengan kecepatan rata-rata di atas 40 Km/jam.\n",
        "\n"
      ],
      "metadata": {
        "id": "KpXlcWFcakVP"
      }
    },
    {
      "cell_type": "markdown",
      "source": [
        "# [3] Method 3: Scatter Plot & Correlation"
      ],
      "metadata": {
        "id": "tTE4EYIsIhP9"
      }
    },
    {
      "cell_type": "markdown",
      "source": [
        "## a. Scatter Plot"
      ],
      "metadata": {
        "id": "fxrYbIgN5h2I"
      }
    },
    {
      "cell_type": "code",
      "source": [
        "# Menentukan Kolom yang akan dijadikan sebagai Independent atau Dependent Variable\n",
        "independent = data[data[\"Nama Jalan\"] == \"SP. SAMSAT\"][\"JUMLAH\"]\n",
        "dependent = data[data[\"Nama Jalan\"] == \"SP. SAMSAT\"][\"OCCUPANCY (%)\"]\n",
        "\n",
        "preview = pd.DataFrame({\n",
        "            \"Jumlah\": independent,\n",
        "            \"OCCUPANCY\": dependent\n",
        "          })\n",
        "\n",
        "preview.head()"
      ],
      "metadata": {
        "colab": {
          "base_uri": "https://localhost:8080/",
          "height": 206
        },
        "id": "fbhcwbd5Ikga",
        "outputId": "44b3b780-b2db-4969-ff7e-77645683ee80"
      },
      "execution_count": null,
      "outputs": [
        {
          "output_type": "execute_result",
          "data": {
            "text/plain": [
              "    Jumlah  OCCUPANCY\n",
              "21   14962      73.08\n",
              "22   11694      66.41\n",
              "23   14599      68.72\n",
              "54   15197      69.05\n",
              "55   14248      66.25"
            ],
            "text/html": [
              "\n",
              "  <div id=\"df-77fd7ebc-c0c5-45ef-a1fc-9d1e899fb53b\" class=\"colab-df-container\">\n",
              "    <div>\n",
              "<style scoped>\n",
              "    .dataframe tbody tr th:only-of-type {\n",
              "        vertical-align: middle;\n",
              "    }\n",
              "\n",
              "    .dataframe tbody tr th {\n",
              "        vertical-align: top;\n",
              "    }\n",
              "\n",
              "    .dataframe thead th {\n",
              "        text-align: right;\n",
              "    }\n",
              "</style>\n",
              "<table border=\"1\" class=\"dataframe\">\n",
              "  <thead>\n",
              "    <tr style=\"text-align: right;\">\n",
              "      <th></th>\n",
              "      <th>Jumlah</th>\n",
              "      <th>OCCUPANCY</th>\n",
              "    </tr>\n",
              "  </thead>\n",
              "  <tbody>\n",
              "    <tr>\n",
              "      <th>21</th>\n",
              "      <td>14962</td>\n",
              "      <td>73.08</td>\n",
              "    </tr>\n",
              "    <tr>\n",
              "      <th>22</th>\n",
              "      <td>11694</td>\n",
              "      <td>66.41</td>\n",
              "    </tr>\n",
              "    <tr>\n",
              "      <th>23</th>\n",
              "      <td>14599</td>\n",
              "      <td>68.72</td>\n",
              "    </tr>\n",
              "    <tr>\n",
              "      <th>54</th>\n",
              "      <td>15197</td>\n",
              "      <td>69.05</td>\n",
              "    </tr>\n",
              "    <tr>\n",
              "      <th>55</th>\n",
              "      <td>14248</td>\n",
              "      <td>66.25</td>\n",
              "    </tr>\n",
              "  </tbody>\n",
              "</table>\n",
              "</div>\n",
              "    <div class=\"colab-df-buttons\">\n",
              "\n",
              "  <div class=\"colab-df-container\">\n",
              "    <button class=\"colab-df-convert\" onclick=\"convertToInteractive('df-77fd7ebc-c0c5-45ef-a1fc-9d1e899fb53b')\"\n",
              "            title=\"Convert this dataframe to an interactive table.\"\n",
              "            style=\"display:none;\">\n",
              "\n",
              "  <svg xmlns=\"http://www.w3.org/2000/svg\" height=\"24px\" viewBox=\"0 -960 960 960\">\n",
              "    <path d=\"M120-120v-720h720v720H120Zm60-500h600v-160H180v160Zm220 220h160v-160H400v160Zm0 220h160v-160H400v160ZM180-400h160v-160H180v160Zm440 0h160v-160H620v160ZM180-180h160v-160H180v160Zm440 0h160v-160H620v160Z\"/>\n",
              "  </svg>\n",
              "    </button>\n",
              "\n",
              "  <style>\n",
              "    .colab-df-container {\n",
              "      display:flex;\n",
              "      gap: 12px;\n",
              "    }\n",
              "\n",
              "    .colab-df-convert {\n",
              "      background-color: #E8F0FE;\n",
              "      border: none;\n",
              "      border-radius: 50%;\n",
              "      cursor: pointer;\n",
              "      display: none;\n",
              "      fill: #1967D2;\n",
              "      height: 32px;\n",
              "      padding: 0 0 0 0;\n",
              "      width: 32px;\n",
              "    }\n",
              "\n",
              "    .colab-df-convert:hover {\n",
              "      background-color: #E2EBFA;\n",
              "      box-shadow: 0px 1px 2px rgba(60, 64, 67, 0.3), 0px 1px 3px 1px rgba(60, 64, 67, 0.15);\n",
              "      fill: #174EA6;\n",
              "    }\n",
              "\n",
              "    .colab-df-buttons div {\n",
              "      margin-bottom: 4px;\n",
              "    }\n",
              "\n",
              "    [theme=dark] .colab-df-convert {\n",
              "      background-color: #3B4455;\n",
              "      fill: #D2E3FC;\n",
              "    }\n",
              "\n",
              "    [theme=dark] .colab-df-convert:hover {\n",
              "      background-color: #434B5C;\n",
              "      box-shadow: 0px 1px 3px 1px rgba(0, 0, 0, 0.15);\n",
              "      filter: drop-shadow(0px 1px 2px rgba(0, 0, 0, 0.3));\n",
              "      fill: #FFFFFF;\n",
              "    }\n",
              "  </style>\n",
              "\n",
              "    <script>\n",
              "      const buttonEl =\n",
              "        document.querySelector('#df-77fd7ebc-c0c5-45ef-a1fc-9d1e899fb53b button.colab-df-convert');\n",
              "      buttonEl.style.display =\n",
              "        google.colab.kernel.accessAllowed ? 'block' : 'none';\n",
              "\n",
              "      async function convertToInteractive(key) {\n",
              "        const element = document.querySelector('#df-77fd7ebc-c0c5-45ef-a1fc-9d1e899fb53b');\n",
              "        const dataTable =\n",
              "          await google.colab.kernel.invokeFunction('convertToInteractive',\n",
              "                                                    [key], {});\n",
              "        if (!dataTable) return;\n",
              "\n",
              "        const docLinkHtml = 'Like what you see? Visit the ' +\n",
              "          '<a target=\"_blank\" href=https://colab.research.google.com/notebooks/data_table.ipynb>data table notebook</a>'\n",
              "          + ' to learn more about interactive tables.';\n",
              "        element.innerHTML = '';\n",
              "        dataTable['output_type'] = 'display_data';\n",
              "        await google.colab.output.renderOutput(dataTable, element);\n",
              "        const docLink = document.createElement('div');\n",
              "        docLink.innerHTML = docLinkHtml;\n",
              "        element.appendChild(docLink);\n",
              "      }\n",
              "    </script>\n",
              "  </div>\n",
              "\n",
              "\n",
              "<div id=\"df-4042037d-4d74-4154-81fe-5ea2e7d5bc68\">\n",
              "  <button class=\"colab-df-quickchart\" onclick=\"quickchart('df-4042037d-4d74-4154-81fe-5ea2e7d5bc68')\"\n",
              "            title=\"Suggest charts\"\n",
              "            style=\"display:none;\">\n",
              "\n",
              "<svg xmlns=\"http://www.w3.org/2000/svg\" height=\"24px\"viewBox=\"0 0 24 24\"\n",
              "     width=\"24px\">\n",
              "    <g>\n",
              "        <path d=\"M19 3H5c-1.1 0-2 .9-2 2v14c0 1.1.9 2 2 2h14c1.1 0 2-.9 2-2V5c0-1.1-.9-2-2-2zM9 17H7v-7h2v7zm4 0h-2V7h2v10zm4 0h-2v-4h2v4z\"/>\n",
              "    </g>\n",
              "</svg>\n",
              "  </button>\n",
              "\n",
              "<style>\n",
              "  .colab-df-quickchart {\n",
              "      --bg-color: #E8F0FE;\n",
              "      --fill-color: #1967D2;\n",
              "      --hover-bg-color: #E2EBFA;\n",
              "      --hover-fill-color: #174EA6;\n",
              "      --disabled-fill-color: #AAA;\n",
              "      --disabled-bg-color: #DDD;\n",
              "  }\n",
              "\n",
              "  [theme=dark] .colab-df-quickchart {\n",
              "      --bg-color: #3B4455;\n",
              "      --fill-color: #D2E3FC;\n",
              "      --hover-bg-color: #434B5C;\n",
              "      --hover-fill-color: #FFFFFF;\n",
              "      --disabled-bg-color: #3B4455;\n",
              "      --disabled-fill-color: #666;\n",
              "  }\n",
              "\n",
              "  .colab-df-quickchart {\n",
              "    background-color: var(--bg-color);\n",
              "    border: none;\n",
              "    border-radius: 50%;\n",
              "    cursor: pointer;\n",
              "    display: none;\n",
              "    fill: var(--fill-color);\n",
              "    height: 32px;\n",
              "    padding: 0;\n",
              "    width: 32px;\n",
              "  }\n",
              "\n",
              "  .colab-df-quickchart:hover {\n",
              "    background-color: var(--hover-bg-color);\n",
              "    box-shadow: 0 1px 2px rgba(60, 64, 67, 0.3), 0 1px 3px 1px rgba(60, 64, 67, 0.15);\n",
              "    fill: var(--button-hover-fill-color);\n",
              "  }\n",
              "\n",
              "  .colab-df-quickchart-complete:disabled,\n",
              "  .colab-df-quickchart-complete:disabled:hover {\n",
              "    background-color: var(--disabled-bg-color);\n",
              "    fill: var(--disabled-fill-color);\n",
              "    box-shadow: none;\n",
              "  }\n",
              "\n",
              "  .colab-df-spinner {\n",
              "    border: 2px solid var(--fill-color);\n",
              "    border-color: transparent;\n",
              "    border-bottom-color: var(--fill-color);\n",
              "    animation:\n",
              "      spin 1s steps(1) infinite;\n",
              "  }\n",
              "\n",
              "  @keyframes spin {\n",
              "    0% {\n",
              "      border-color: transparent;\n",
              "      border-bottom-color: var(--fill-color);\n",
              "      border-left-color: var(--fill-color);\n",
              "    }\n",
              "    20% {\n",
              "      border-color: transparent;\n",
              "      border-left-color: var(--fill-color);\n",
              "      border-top-color: var(--fill-color);\n",
              "    }\n",
              "    30% {\n",
              "      border-color: transparent;\n",
              "      border-left-color: var(--fill-color);\n",
              "      border-top-color: var(--fill-color);\n",
              "      border-right-color: var(--fill-color);\n",
              "    }\n",
              "    40% {\n",
              "      border-color: transparent;\n",
              "      border-right-color: var(--fill-color);\n",
              "      border-top-color: var(--fill-color);\n",
              "    }\n",
              "    60% {\n",
              "      border-color: transparent;\n",
              "      border-right-color: var(--fill-color);\n",
              "    }\n",
              "    80% {\n",
              "      border-color: transparent;\n",
              "      border-right-color: var(--fill-color);\n",
              "      border-bottom-color: var(--fill-color);\n",
              "    }\n",
              "    90% {\n",
              "      border-color: transparent;\n",
              "      border-bottom-color: var(--fill-color);\n",
              "    }\n",
              "  }\n",
              "</style>\n",
              "\n",
              "  <script>\n",
              "    async function quickchart(key) {\n",
              "      const quickchartButtonEl =\n",
              "        document.querySelector('#' + key + ' button');\n",
              "      quickchartButtonEl.disabled = true;  // To prevent multiple clicks.\n",
              "      quickchartButtonEl.classList.add('colab-df-spinner');\n",
              "      try {\n",
              "        const charts = await google.colab.kernel.invokeFunction(\n",
              "            'suggestCharts', [key], {});\n",
              "      } catch (error) {\n",
              "        console.error('Error during call to suggestCharts:', error);\n",
              "      }\n",
              "      quickchartButtonEl.classList.remove('colab-df-spinner');\n",
              "      quickchartButtonEl.classList.add('colab-df-quickchart-complete');\n",
              "    }\n",
              "    (() => {\n",
              "      let quickchartButtonEl =\n",
              "        document.querySelector('#df-4042037d-4d74-4154-81fe-5ea2e7d5bc68 button');\n",
              "      quickchartButtonEl.style.display =\n",
              "        google.colab.kernel.accessAllowed ? 'block' : 'none';\n",
              "    })();\n",
              "  </script>\n",
              "</div>\n",
              "    </div>\n",
              "  </div>\n"
            ]
          },
          "metadata": {},
          "execution_count": 48
        }
      ]
    },
    {
      "cell_type": "code",
      "source": [
        "# Scatter Plot\n",
        "fig, ax1 = plt.subplots()\n",
        "ax1.scatter(dependent, independent, label='Data')\n",
        "\n",
        "# Keterangan\n",
        "ax1.set_ylabel('Jumlah Kendaraan')\n",
        "ax1.set_xlabel('Tingkat Kemacetan (%)')\n",
        "ax1.set_title('Scatter Plot Hubungan antara Jumlah Kendaraan\\n dan Tingkat Kemacetan pada Kec. Samsat\\n')\n",
        "\n",
        "# Best Fit Line\n",
        "m, b = np.polyfit(dependent, independent, 1)\n",
        "ax1.plot(np.array(dependent), np.array(m*dependent) + b, color='red', label='Best fit line')\n",
        "\n",
        "ax1.legend()\n",
        "plt.show()"
      ],
      "metadata": {
        "colab": {
          "base_uri": "https://localhost:8080/",
          "height": 513
        },
        "id": "wmONJXzOJR46",
        "outputId": "3a103134-b782-4624-8e5e-ab85e2feae20"
      },
      "execution_count": null,
      "outputs": [
        {
          "output_type": "display_data",
          "data": {
            "text/plain": [
              "<Figure size 640x480 with 1 Axes>"
            ],
            "image/png": "[encoded data removed]"
          },
          "metadata": {}
        }
      ]
    },
    {
      "cell_type": "markdown",
      "source": [
        "### Penjelasan"
      ],
      "metadata": {
        "id": "DWlROz_8LjEK"
      }
    },
    {
      "cell_type": "markdown",
      "source": [
        "- Terdapat korelasi positif antara dua variabel tersebut\n",
        "- Semakin tinggi Tingkat Kemacetan, maka jumlah Kendaraan juga cenderung meningkat\n",
        "- Ada beberapa titik yang jauh dari garis regresi, yang menandakan bahwa ada hari dengan tingkat kemacetan rendah tetapi jumlah kendaraannya tinggi\n",
        "- Data  tersebar di sekitar garis regresi, namun terdapat beberapa outlier dimana jumlah kendaraan berbeda dari tren umum."
      ],
      "metadata": {
        "id": "OFIrmO0ccmzE"
      }
    },
    {
      "cell_type": "markdown",
      "source": [
        "## b. Pearson Correlation"
      ],
      "metadata": {
        "id": "6mD2MzFy5qP4"
      }
    },
    {
      "cell_type": "code",
      "source": [
        "# Rata-rata Tingkat Kemacetan (X): Dependent, dan Jumlah Kendaraan (Y): Independent\n",
        "Y_mean = np.mean(independent)\n",
        "X_mean = np.mean(dependent)\n",
        "\n",
        "# Hitung jumlah hasil kali selisihnya\n",
        "pembilang = np.sum((independent - Y_mean) * (dependent - X_mean))\n",
        "\n",
        "# Jumlah kuadrat selisih setiap variabel\n",
        "penyebut_Y = np.sum((independent - Y_mean) ** 2)\n",
        "penyebut_X = np.sum((dependent - X_mean) ** 2)\n",
        "\n",
        "# Hasil\n",
        "correlation = pembilang / (np.sqrt(penyebut_Y) * np.sqrt(penyebut_X))\n",
        "print(\"Nilai Korelasi: \", correlation)\n"
      ],
      "metadata": {
        "colab": {
          "base_uri": "https://localhost:8080/"
        },
        "id": "DvNkhYM-3tVZ",
        "outputId": "a448746d-b46a-430a-f324-e18911d79082"
      },
      "execution_count": null,
      "outputs": [
        {
          "output_type": "stream",
          "name": "stdout",
          "text": [
            "Nilai Korelasi:  0.8276842368358946\n"
          ]
        }
      ]
    },
    {
      "cell_type": "markdown",
      "source": [
        "### Penjelasan"
      ],
      "metadata": {
        "id": "1invkBvaM0Ia"
      }
    },
    {
      "cell_type": "markdown",
      "source": [
        "- Nilai korelasi 0.82 menunjukkan hubungan positif kuat antara jumlah kendaraan dan tingkat kemacetan pada Kecamatan Samsat.\n",
        "- Nilai ini menunjukkan bahwa ketika jumlah kendaraan meningkat, tingkat kemacetan juga meningkat."
      ],
      "metadata": {
        "id": "tCR6clxreUWU"
      }
    },
    {
      "cell_type": "markdown",
      "source": [
        "# [4] Method 4: Linear Regression"
      ],
      "metadata": {
        "id": "n_Jq2GwKIqox"
      }
    },
    {
      "cell_type": "code",
      "source": [
        "# Variabel dependent dan independent\n",
        "x = np.array(data['JUMLAH'])\n",
        "y = np.array(data['AVG. SPEED (Km/Jam)'])\n",
        "\n",
        "# Rata-rata X Dan Y\n",
        "mean_x = np.mean(x)\n",
        "mean_y = np.mean(y)\n",
        "\n",
        "# Variansi\n",
        "covarience = np.sum((x - mean_x) * (y - mean_y)) / (len(x) - 1)\n",
        "variansi_x = np.var(x)\n",
        "\n",
        "# Kemiringan garis\n",
        "kemiringan = covarience / variansi_x\n",
        "tipot_y = mean_y - kemiringan * mean_x\n",
        "\n",
        "# Scatter Plot\n",
        "plt.figure(figsize=(10, 6))\n",
        "sns.scatterplot(x=x, y=y)\n",
        "plt.plot(x, tipot_y + kemiringan * x, color='red')\n",
        "plt.title('Scatter Plot Jumlah Kendaraan dan Kecepatan Rata-rata')\n",
        "plt.xlabel('Jumlah Kendaraan')\n",
        "plt.ylabel('Avg. Speed (Km/Jam)')\n",
        "plt.show()\n"
      ],
      "metadata": {
        "colab": {
          "base_uri": "https://localhost:8080/",
          "height": 564
        },
        "id": "fCalSN1FJRdf",
        "outputId": "4c36f9bc-34f2-4af1-bd25-5b16589adbce"
      },
      "execution_count": null,
      "outputs": [
        {
          "output_type": "display_data",
          "data": {
            "text/plain": [
              "<Figure size 1000x600 with 1 Axes>"
            ],
            "image/png": "[encoded data removed]"
          },
          "metadata": {}
        }
      ]
    },
    {
      "cell_type": "code",
      "source": [
        "# Analisis Regresi\n",
        "hasil = {\n",
        "    \"Kemiringan \": kemiringan,\n",
        "    \"Titik Potong sumbu Y \": tipot_y,\n",
        "    \"Korelasi \": data['AVG. SPEED (Km/Jam)'].corr(data['JUMLAH']),\n",
        "}\n",
        "hasil"
      ],
      "metadata": {
        "colab": {
          "base_uri": "https://localhost:8080/"
        },
        "id": "WuzamZR4W3Z_",
        "outputId": "db7f60f9-031a-44a9-e8e9-56829358d3d4"
      },
      "execution_count": null,
      "outputs": [
        {
          "output_type": "execute_result",
          "data": {
            "text/plain": [
              "{'Kemiringan ': -0.0006286824481687456,\n",
              " 'Titik Potong sumbu Y ': 29.96524597908853,\n",
              " 'Korelasi ': -0.2373767238126215}"
            ]
          },
          "metadata": {},
          "execution_count": 52
        }
      ]
    },
    {
      "cell_type": "markdown",
      "source": [
        "### Penjelasan"
      ],
      "metadata": {
        "id": "b1CPmRWbSmyO"
      }
    },
    {
      "cell_type": "markdown",
      "source": [
        "Pada bagian linear regression kami menggunakan dua buah variable yakni jumlah kendaraan (x) sbg variabel independent dan juga kecepatan rata-rata (y) sbg variabel dependent\n",
        "\n",
        "- Dapat dilihat bahwa titik-titik pada scatter plot memiliki tren menurun dari kiri ke kanan, yang mengindikasikan adanya korelasi negatif antara dua variabel tersebut\n",
        "\n",
        "- Artinya semakin tinggi jumlah kendaraan, maka rata-rata dari kecepatan kendaraan semakin rendah\n",
        "\n",
        "- Nilai kemiringan adalah -0.000626 yang berarti untuk setiap peningkatan jumlah kendaraan, maka kecepatan rata-rata berkurang sekitar 0.000626 Km/jam.\n",
        "\n",
        "- Korelasi = -0.2374, menunjukkan adanya korelasi negatif yang lemah antara jumlah kendaraan dan kecepatan rata-rata.\n",
        "\n"
      ],
      "metadata": {
        "id": "Gxh0J6OE5B3o"
      }
    },
    {
      "cell_type": "markdown",
      "source": [
        "# [5] Method 5: Hypothesis Testing"
      ],
      "metadata": {
        "id": "tc1liyQhIv4Q"
      }
    },
    {
      "cell_type": "code",
      "source": [
        "# Filter data berdasarkan nama jalan dan waktu\n",
        "nama_jalan_tertentu = \"SP. BUAH BATU\"\n",
        "data_jalan_waktu = data[(data['Nama Jalan'] == nama_jalan_tertentu) & (data['Waktu'].isin(['pagi', 'siang', 'sore']))]\n",
        "\n",
        "# Pisahkan data berdasarkan Waktu\n",
        "pagi_data = data_jalan_waktu[data_jalan_waktu['Waktu'] == 'pagi']['AVG. SPEED (Km/Jam)']\n",
        "siang_data = data_jalan_waktu[data_jalan_waktu['Waktu'] == 'siang']['AVG. SPEED (Km/Jam)']\n",
        "sore_data = data_jalan_waktu[data_jalan_waktu['Waktu'] == 'sore']['AVG. SPEED (Km/Jam)']\n",
        "\n",
        "plt.hist(pagi_data, alpha=0.5, label='Pagi', color='blue')\n",
        "plt.hist(siang_data, alpha=0.5, label='Siang', color='orange')\n",
        "plt.hist(sore_data, alpha=0.5, label='Sore', color='green')\n",
        "\n",
        "plt.xlabel('AVG. SPEED (Km/Jam)')\n",
        "plt.ylabel('Frekuensi')\n",
        "plt.title('Histogram AVG. SPEED pada Berbagai Waktu')\n"
      ],
      "metadata": {
        "id": "-VnlG0iCIwwo",
        "colab": {
          "base_uri": "https://localhost:8080/",
          "height": 490
        },
        "outputId": "03a12f4a-6a9d-4d10-e515-f9be1a334cf6"
      },
      "execution_count": null,
      "outputs": [
        {
          "output_type": "execute_result",
          "data": {
            "text/plain": [
              "Text(0.5, 1.0, 'Histogram AVG. SPEED pada Berbagai Waktu')"
            ]
          },
          "metadata": {},
          "execution_count": 53
        },
        {
          "output_type": "display_data",
          "data": {
            "text/plain": [
              "<Figure size 640x480 with 1 Axes>"
            ],
            "image/png": "[encoded data removed]"
          },
          "metadata": {}
        }
      ]
    },
    {
      "cell_type": "code",
      "source": [
        "# Uji T Independen\n",
        "t_statistic_pagi_siang, p_value_pagi_siang = ttest_ind(pagi_data, siang_data)\n",
        "t_statistic_pagi_sore, p_value_pagi_sore = ttest_ind(pagi_data, sore_data)\n",
        "t_statistic_siang_sore, p_value_siang_sore = ttest_ind(siang_data, sore_data)\n",
        "\n",
        "# Menampilkan hasil uji T Independen\n",
        "print(\"Pagi vs. Siang - T-Statistic:\", t_statistic_pagi_siang)\n",
        "print(\"Pagi vs. Siang - P-Value:\", p_value_pagi_siang)\n",
        "\n",
        "print(\"Pagi vs. Sore - T-Statistic:\", t_statistic_pagi_sore)\n",
        "print(\"Pagi vs. Sore - P-Value:\", p_value_pagi_sore)\n",
        "\n",
        "print(\"Siang vs. Sore - T-Statistic:\", t_statistic_siang_sore)\n",
        "print(\"Siang vs. Sore - P-Value:\", p_value_siang_sore)\n",
        "\n",
        "# Menyimpulkan hasil uji T Independen\n",
        "alpha = 0.05\n",
        "if p_value_pagi_siang < alpha:\n",
        "    print(\"Pagi vs. Siang: Menolak hipotesis nol. Ada perbedaan signifikan dalam AVG. SPEED.\")\n",
        "else:\n",
        "    print(\"Pagi vs. Siang: Hipotesis nol diterima. Tidak ada perbedaan signifikan dalam AVG. SPEED.\")\n",
        "\n",
        "if p_value_pagi_sore < alpha:\n",
        "    print(\"Pagi vs. Sore: Menolak hipotesis nol. Ada perbedaan signifikan dalam AVG. SPEED.\")\n",
        "else:\n",
        "    print(\"Pagi vs. Sore: Hipotesis nol diterima. Tidak ada perbedaan signifikan dalam AVG. SPEED.\")\n",
        "\n",
        "if p_value_siang_sore < alpha:\n",
        "    print(\"Siang vs. Sore: Menolak hipotesis nol. Ada perbedaan signifikan dalam AVG. SPEED.\")\n",
        "else:\n",
        "    print(\"Siang vs. Sore: Hipotesis nol diterima. Tidak ada perbedaan signifikan dalam AVG. SPEED.\")"
      ],
      "metadata": {
        "id": "WVnoNATsL862",
        "colab": {
          "base_uri": "https://localhost:8080/"
        },
        "outputId": "096b28c3-fcbb-4e4c-a31e-86c9dd0c7379"
      },
      "execution_count": null,
      "outputs": [
        {
          "output_type": "stream",
          "name": "stdout",
          "text": [
            "Pagi vs. Siang - T-Statistic: 2.5899754656379863\n",
            "Pagi vs. Siang - P-Value: 0.023658976275510047\n",
            "Pagi vs. Sore - T-Statistic: 3.822984692418936\n",
            "Pagi vs. Sore - P-Value: 0.002426289428761147\n",
            "Siang vs. Sore - T-Statistic: 2.177979037052649\n",
            "Siang vs. Sore - P-Value: 0.05007469927921872\n",
            "Pagi vs. Siang: Menolak hipotesis nol. Ada perbedaan signifikan dalam AVG. SPEED.\n",
            "Pagi vs. Sore: Menolak hipotesis nol. Ada perbedaan signifikan dalam AVG. SPEED.\n",
            "Siang vs. Sore: Hipotesis nol diterima. Tidak ada perbedaan signifikan dalam AVG. SPEED.\n"
          ]
        }
      ]
    },
    {
      "cell_type": "markdown",
      "source": [
        "### Penjelasan"
      ],
      "metadata": {
        "id": "tlqDQYyxShKa"
      }
    },
    {
      "cell_type": "markdown",
      "source": [
        "Implementasi uji hipotesis dengan menggunakan uji t independen untuk membandingkan kecepatan rata-rata (AVG. SPEED) antara waktu pagi, siang, dan sore di suatu jalan tertentu (SP. BUAH BATU). Berdasarkan tingkat signifikansi (alpha) yang ditetapkan, hasil uji t independen diinterpretasikan. Jika p-value kurang dari alpha, hipotesis nol ditolak, dan jika p-value lebih besar atau sama dengan alpha, hipotesis nol diterima."
      ],
      "metadata": {
        "id": "gxvfPAitSjox"
      }
    }
  ]
}